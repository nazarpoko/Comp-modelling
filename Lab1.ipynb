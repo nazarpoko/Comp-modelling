{
 "cells": [
  {
   "cell_type": "code",
   "execution_count": 170,
   "id": "e60c8afb",
   "metadata": {},
   "outputs": [],
   "source": [
    "import datetime as dt\n",
    "\n",
    "class HotelRoom:\n",
    "    def __init__(self, number: int, capacity: int, wifi: bool):\n",
    "        # ordinal number\n",
    "        self.__number = number\n",
    "        # Guest capacity\n",
    "        self.__capacity = capacity\n",
    "        # wifi availability\n",
    "        self.__wifi = wifi\n",
    "        self.__bookings = []\n",
    "    \n",
    "    @property\n",
    "    def number(self):  \n",
    "        return self.__number\n",
    "    \n",
    "    @property\n",
    "    def capacity(self): \n",
    "        return self.__capacity\n",
    "        \n",
    "    @property\n",
    "    def wifi(self): \n",
    "        return self.__wifi\n",
    "    \n",
    "    @property\n",
    "    def bookings(self): \n",
    "        return self.__bookings\n",
    "    \n",
    "    @capacity.setter\n",
    "    def capacity(self, new_capacity: int):  \n",
    "        if new_capacity < 1:\n",
    "            raise ValueError('Invalid room capacity!')\n",
    "        if new_capacity > 8:\n",
    "            raise ValueError('Too many guests in a single room! We are not a hostel!')\n",
    "        self.__capacity = new_capacity\n",
    "    \n",
    "    def add_booking(self, arrival_str, departure_str):\n",
    "        arrival = dt.datetime.strptime(arrival_str, '%m-%d-%Y')\n",
    "        departure = dt.datetime.strptime(departure_str, '%m-%d-%Y')\n",
    "        now = dt.datetime.now()\n",
    "        if arrival < now:\n",
    "            raise ValueError('Arrival date is past due')\n",
    "        if arrival > departure:\n",
    "            raise ValueError('Arrival-Departure conflict')\n",
    "        for b in self.__bookings:\n",
    "            if arrival < b[1] and departure > b[0]:\n",
    "                raise ValueError('Conflict with existent booking, available from {}'.format(b[1].strftime(\"%m-%d-%Y\")))\n",
    "        self.__bookings.append((arrival, departure))\n",
    "        \n",
    "    def __repr__(self):\n",
    "        if self.__wifi:\n",
    "            with_wifi = 'with wifi'\n",
    "        else:\n",
    "            with_wifi = 'without wifi'\n",
    "        s = \"{} people room, number {}, {}\".format(\n",
    "            self.__capacity,\n",
    "            self.__number,\n",
    "            with_wifi\n",
    "        )\n",
    "        if self.__bookings:\n",
    "            s += '\\nBookings:'\n",
    "            for b in self.__bookings:\n",
    "                s += '\\n[{} - {}]'.format(b[0].strftime(\"%m-%d-%Y\"), b[1].strftime(\"%m-%d-%Y\"))\n",
    "        else:\n",
    "            s += 'No bookings'\n",
    "        return s "
   ]
  },
  {
   "cell_type": "code",
   "execution_count": 171,
   "id": "ae57ec8f",
   "metadata": {},
   "outputs": [],
   "source": [
    "my_room = HotelRoom(145, 3, True)"
   ]
  },
  {
   "cell_type": "code",
   "execution_count": 172,
   "id": "e17367e7",
   "metadata": {},
   "outputs": [],
   "source": [
    "try:\n",
    "    my_room.add_booking('2-20-2022', '2-25-2022')\n",
    "    my_room.add_booking('3-5-2022', '3-11-2022')\n",
    "except Exception as e:\n",
    "    print(e)"
   ]
  },
  {
   "cell_type": "code",
   "execution_count": 174,
   "id": "2e298a60",
   "metadata": {},
   "outputs": [
    {
     "data": {
      "text/plain": [
       "3 people room, number 145, with wifi\n",
       "Bookings:\n",
       "[02-20-2022 - 02-25-2022]\n",
       "[03-05-2022 - 03-11-2022]"
      ]
     },
     "execution_count": 174,
     "metadata": {},
     "output_type": "execute_result"
    }
   ],
   "source": [
    "my_room"
   ]
  },
  {
   "cell_type": "code",
   "execution_count": 175,
   "id": "96eec003",
   "metadata": {},
   "outputs": [
    {
     "name": "stdout",
     "output_type": "stream",
     "text": [
      "day is out of range for month\n"
     ]
    }
   ],
   "source": [
    "try:\n",
    "    my_room.add_booking('2-26-2022', '2-30-2022')\n",
    "except Exception as e:\n",
    "    print(e)"
   ]
  },
  {
   "cell_type": "code",
   "execution_count": 176,
   "id": "142796ce",
   "metadata": {},
   "outputs": [
    {
     "name": "stdout",
     "output_type": "stream",
     "text": [
      "Conflict with existent booking, available from 03-11-2022\n"
     ]
    }
   ],
   "source": [
    "try:\n",
    "    my_room.add_booking('2-26-2022', '3-10-2022')\n",
    "except Exception as e:\n",
    "    print(e)"
   ]
  },
  {
   "cell_type": "code",
   "execution_count": 160,
   "id": "b153ba44",
   "metadata": {},
   "outputs": [
    {
     "data": {
      "text/plain": [
       "[(datetime.datetime(2022, 2, 20, 0, 0), datetime.datetime(2022, 2, 25, 0, 0)),\n",
       " (datetime.datetime(2022, 3, 5, 0, 0), datetime.datetime(2022, 3, 11, 0, 0))]"
      ]
     },
     "execution_count": 160,
     "metadata": {},
     "output_type": "execute_result"
    }
   ],
   "source": [
    "my_room.bookings"
   ]
  },
  {
   "cell_type": "code",
   "execution_count": 161,
   "id": "786df547",
   "metadata": {},
   "outputs": [
    {
     "name": "stdout",
     "output_type": "stream",
     "text": [
      "Invalid room capacity!\n",
      "Too many guests in a single room! We are not a hostel!\n"
     ]
    }
   ],
   "source": [
    "try:\n",
    "    my_room.capacity = -1\n",
    "except Exception as e:\n",
    "    print(e)\n",
    "    \n",
    "try:\n",
    "    my_room.capacity = 12\n",
    "except Exception as e:\n",
    "    print(e)"
   ]
  },
  {
   "cell_type": "code",
   "execution_count": 163,
   "id": "14a5b946",
   "metadata": {},
   "outputs": [
    {
     "name": "stdout",
     "output_type": "stream",
     "text": [
      "3 people room, number 145, with wifi\n",
      "[(datetime.datetime(2022, 2, 20, 0, 0), datetime.datetime(2022, 2, 25, 0, 0)), (datetime.datetime(2022, 3, 5, 0, 0), datetime.datetime(2022, 3, 11, 0, 0))]\n"
     ]
    }
   ],
   "source": [
    "print(my_room)\n",
    "print(my_room.bookings)"
   ]
  },
  {
   "cell_type": "code",
   "execution_count": 177,
   "id": "f2d12ddd",
   "metadata": {},
   "outputs": [],
   "source": [
    "# needed for the proper OOP in Python\n",
    "from abc import ABC, abstractmethod"
   ]
  },
  {
   "cell_type": "code",
   "execution_count": 182,
   "id": "e60fbf13",
   "metadata": {},
   "outputs": [],
   "source": [
    "class LuxuryRoom(HotelRoom):\n",
    "    def __init__(self, number: int, capacity: int=2, wifi: bool = True, pool_size: int = 12, view: str = 'city'):\n",
    "        super().__init__(number, capacity, wifi) # base class constructor\n",
    "        # pool area in square meters\n",
    "        self.__pool_size = pool_size\n",
    "        # view_type: panoramic, city, yard\n",
    "        self.__view = view\n",
    "        \n",
    "\n",
    "    def __repr__(self):\n",
    "        \n",
    "        s = \"Luxury {} people room, number {} with {} view, pool size: {} sq.m\".format(\n",
    "            self._HotelRoom__capacity,\n",
    "            self._HotelRoom__number,\n",
    "            self.__view,\n",
    "            self.__pool_size\n",
    "        )\n",
    "        if self._HotelRoom__bookings:\n",
    "            s += '\\nBookings:'\n",
    "            for b in self._HotelRoom__bookings:\n",
    "                s += '\\n[{} - {}]'.format(b[0].strftime(\"%m-%d-%Y\"), b[1].strftime(\"%m-%d-%Y\"))\n",
    "        else:\n",
    "            s += 'No bookings'\n",
    "        return s\n"
   ]
  },
  {
   "cell_type": "code",
   "execution_count": 183,
   "id": "c6a299f2",
   "metadata": {},
   "outputs": [],
   "source": [
    "the_room = LuxuryRoom(100)"
   ]
  },
  {
   "cell_type": "code",
   "execution_count": 184,
   "id": "d5641f4e",
   "metadata": {},
   "outputs": [
    {
     "data": {
      "text/plain": [
       "Luxury 2 people room, number 100 with city view, pool size: 12 sq.mNo bookings"
      ]
     },
     "execution_count": 184,
     "metadata": {},
     "output_type": "execute_result"
    }
   ],
   "source": [
    "the_room"
   ]
  },
  {
   "cell_type": "code",
   "execution_count": 185,
   "id": "693294c7",
   "metadata": {},
   "outputs": [
    {
     "name": "stdout",
     "output_type": "stream",
     "text": [
      "Arrival date is past due\n"
     ]
    }
   ],
   "source": [
    "try:\n",
    "    the_room.add_booking('3-1-2022', '3-10-2022')\n",
    "    the_room.add_booking('1-22-2022', '1-28-2022')\n",
    "except Exception as e:\n",
    "    print(e)"
   ]
  },
  {
   "cell_type": "code",
   "execution_count": 187,
   "id": "6890baa3",
   "metadata": {},
   "outputs": [
    {
     "data": {
      "text/plain": [
       "Luxury 2 people room, number 100 with city view, pool size: 12 sq.m\n",
       "Bookings:\n",
       "[03-01-2022 - 03-10-2022]"
      ]
     },
     "execution_count": 187,
     "metadata": {},
     "output_type": "execute_result"
    }
   ],
   "source": [
    "the_room"
   ]
  },
  {
   "cell_type": "code",
   "execution_count": null,
   "id": "6bf91dbe",
   "metadata": {},
   "outputs": [],
   "source": []
  }
 ],
 "metadata": {
  "kernelspec": {
   "display_name": "Python 3",
   "language": "python",
   "name": "python3"
  },
  "language_info": {
   "codemirror_mode": {
    "name": "ipython",
    "version": 3
   },
   "file_extension": ".py",
   "mimetype": "text/x-python",
   "name": "python",
   "nbconvert_exporter": "python",
   "pygments_lexer": "ipython3",
   "version": "3.8.8"
  }
 },
 "nbformat": 4,
 "nbformat_minor": 5
}
